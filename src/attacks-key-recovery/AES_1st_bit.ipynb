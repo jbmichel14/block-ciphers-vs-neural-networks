{
 "cells": [
  {
   "attachments": {},
   "cell_type": "markdown",
   "metadata": {},
   "source": [
    "# AES Key Recovery: 1st bit"
   ]
  },
  {
   "attachments": {},
   "cell_type": "markdown",
   "metadata": {},
   "source": [
    "## Description\n",
    "\n",
    "In this attack, we aim to recover the first bit of the key using a binary classifier. We train a neural network on plaintext-ciphertext pairs as samples and the first bit of the key as labels."
   ]
  },
  {
   "attachments": {},
   "cell_type": "markdown",
   "metadata": {},
   "source": [
    "## Imports"
   ]
  },
  {
   "cell_type": "code",
   "execution_count": 1,
   "metadata": {},
   "outputs": [
    {
     "name": "stderr",
     "output_type": "stream",
     "text": [
      "2023-05-02 19:16:49.308352: I tensorflow/core/platform/cpu_feature_guard.cc:182] This TensorFlow binary is optimized to use available CPU instructions in performance-critical operations.\n",
      "To enable the following instructions: AVX2 AVX512F AVX512_VNNI FMA, in other operations, rebuild TensorFlow with the appropriate compiler flags.\n"
     ]
    }
   ],
   "source": [
    "import numpy as np\n",
    "import tensorflow as tf\n",
    "from tensorflow import keras\n",
    "from dataset.datasets import AESDatasetCiphertextPlaintextPairKey\n",
    "from pipeline import *"
   ]
  },
  {
   "cell_type": "markdown",
   "metadata": {},
   "source": [
    "## Importing the dataset"
   ]
  },
  {
   "cell_type": "code",
   "execution_count": 2,
   "metadata": {},
   "outputs": [
    {
     "name": "stdout",
     "output_type": "stream",
     "text": [
      "Error: dataset/assets/moby-dick.txt\n",
      "Error: dataset/assets/shakespeare.txt\n"
     ]
    }
   ],
   "source": [
    "data = AESDatasetCiphertextPlaintextPairKey(128, 'large')\n",
    "\n",
    "train_labels, train_samples, test_labels, test_samples = data.get_data()"
   ]
  },
  {
   "cell_type": "code",
   "execution_count": 3,
   "metadata": {},
   "outputs": [
    {
     "name": "stdout",
     "output_type": "stream",
     "text": [
      "===== Training Labels Shape: (1445705, 128)\n",
      "===== Label Shape: (128,)\n",
      "===== Training Samples Shape: (1445705, 256)\n",
      "===== Sample Shape: (256,)\n",
      "===== Testing Labels Shape: (619588, 128)\n",
      "===== Testing Samples Shape: (619588, 256)\n"
     ]
    }
   ],
   "source": [
    "get_dataset_info(train_labels, train_samples, test_labels, test_samples)"
   ]
  },
  {
   "attachments": {},
   "cell_type": "markdown",
   "metadata": {},
   "source": [
    "### Preprocessing\n",
    "\n",
    "We add 1 preprocessing step:\n",
    "As our goal is only to recover the first bit of the key, we only keep the first bit of the labels to train our network.\n"
   ]
  },
  {
   "cell_type": "code",
   "execution_count": 4,
   "metadata": {},
   "outputs": [],
   "source": [
    "train_labels_1st_bit = np.array([l[0] for l in train_labels])\n",
    "test_labels_1st_bit = np.array([l[0] for l in test_labels])"
   ]
  },
  {
   "cell_type": "code",
   "execution_count": 5,
   "metadata": {},
   "outputs": [
    {
     "name": "stdout",
     "output_type": "stream",
     "text": [
      "===== Training Labels Shape: (1445705,)\n",
      "===== Label Shape: ()\n",
      "===== Training Samples Shape: (1445705, 256)\n",
      "===== Sample Shape: (256,)\n",
      "===== Testing Labels Shape: (619588,)\n",
      "===== Testing Samples Shape: (619588, 256)\n"
     ]
    }
   ],
   "source": [
    "get_dataset_info(train_labels_1st_bit, train_samples, test_labels_1st_bit, test_samples)"
   ]
  },
  {
   "cell_type": "markdown",
   "metadata": {},
   "source": [
    "## Creating the model"
   ]
  },
  {
   "cell_type": "code",
   "execution_count": 6,
   "metadata": {},
   "outputs": [],
   "source": [
    "# Imports\n",
    "from keras import Sequential\n",
    "from keras.layers import Input, Dense, BatchNormalization, LayerNormalization\n",
    "from keras.optimizers import Adam"
   ]
  },
  {
   "cell_type": "markdown",
   "metadata": {},
   "source": [
    "### Model hyperparameters\n",
    "In this code block, we specify most parameters and hyperparameters that will be used in the training of the neural network.\n",
    "\n",
    "Add customization here."
   ]
  },
  {
   "cell_type": "code",
   "execution_count": 12,
   "metadata": {},
   "outputs": [],
   "source": [
    "input_shape = np.shape(train_samples[0])\n",
    "\n",
    "# output dimension\n",
    "dim = 1\n",
    "\n",
    "# units per hidden layer\n",
    "units = 512\n",
    "\n",
    "# lr_schedule = keras.optimizers.schedules.ExponentialDecay(\n",
    "#     initial_learning_rate=0.001,\n",
    "#     decay_steps=10000,\n",
    "#     decay_rate=-0.9)\n",
    "\n",
    "loss_scc = 'sparse_categorical_crossentropy'\n",
    "loss_mse = 'mse'\n",
    "loss_bce = 'binary_crossentropy'\n",
    "learning_rate = 0.001\n",
    "optimizer = Adam(learning_rate=learning_rate)\n",
    "metrics = ['binary_accuracy']\n",
    "epochs = 50\n",
    "batch_size = 1000"
   ]
  },
  {
   "cell_type": "markdown",
   "metadata": {},
   "source": [
    "### Model\n",
    "In this code block, we create the model, according to the parameters and the topology we want to achieve. \n",
    "We then compile it specifying the optimizer, the loss and the metrics we want outputted.\n",
    "\n",
    "Add customization here."
   ]
  },
  {
   "cell_type": "code",
   "execution_count": 13,
   "metadata": {},
   "outputs": [
    {
     "name": "stdout",
     "output_type": "stream",
     "text": [
      "Model: \"sequential_1\"\n",
      "_________________________________________________________________\n",
      " Layer (type)                Output Shape              Param #   \n",
      "=================================================================\n",
      " dense_4 (Dense)             (None, 512)               131584    \n",
      "                                                                 \n",
      " dense_5 (Dense)             (None, 512)               262656    \n",
      "                                                                 \n",
      " dense_6 (Dense)             (None, 512)               262656    \n",
      "                                                                 \n",
      " dense_7 (Dense)             (None, 1)                 513       \n",
      "                                                                 \n",
      "=================================================================\n",
      "Total params: 657,409\n",
      "Trainable params: 657,409\n",
      "Non-trainable params: 0\n",
      "_________________________________________________________________\n"
     ]
    }
   ],
   "source": [
    "# Type of model\n",
    "neural_network = Sequential()\n",
    "\n",
    "# Input layer\n",
    "neural_network.add(Input(shape=input_shape))\n",
    "\n",
    "# Hidden layers\n",
    "#neural_network.add(BatchNormalization())\n",
    "neural_network.add(Dense(units=units, activation='relu'))\n",
    "neural_network.add(Dense(units=units, activation='relu'))\n",
    "neural_network.add(Dense(units=units, activation='relu'))\n",
    "\n",
    "# Output layer\n",
    "neural_network.add(Dense(units=dim, activation='sigmoid'))\n",
    "\n",
    "# Summary\n",
    "neural_network.summary()\n",
    "\n",
    "# Compile model\n",
    "neural_network.compile(optimizer=optimizer, loss=loss_bce, metrics=metrics)"
   ]
  },
  {
   "cell_type": "markdown",
   "metadata": {},
   "source": [
    "### Training\n",
    "In this code block, we train the model. It outputs, for each epoch, the loss and metrics.\n",
    "\n",
    "This block mostly stays the same."
   ]
  },
  {
   "cell_type": "code",
   "execution_count": 14,
   "metadata": {},
   "outputs": [
    {
     "name": "stdout",
     "output_type": "stream",
     "text": [
      "Epoch 1/50\n",
      "1446/1446 [==============================] - 26s 18ms/step - loss: 0.6936 - binary_accuracy: 0.4996\n",
      "Epoch 2/50\n",
      "1446/1446 [==============================] - 28s 19ms/step - loss: 0.6932 - binary_accuracy: 0.5003\n",
      "Epoch 3/50\n",
      "1446/1446 [==============================] - 27s 18ms/step - loss: 0.6932 - binary_accuracy: 0.5000\n",
      "Epoch 4/50\n",
      "1446/1446 [==============================] - 26s 18ms/step - loss: 0.6932 - binary_accuracy: 0.4999\n",
      "Epoch 5/50\n",
      "1446/1446 [==============================] - 26s 18ms/step - loss: 0.6932 - binary_accuracy: 0.5005\n",
      "Epoch 6/50\n",
      "1446/1446 [==============================] - 26s 18ms/step - loss: 0.6932 - binary_accuracy: 0.5014\n",
      "Epoch 7/50\n",
      "1446/1446 [==============================] - 26s 18ms/step - loss: 0.6932 - binary_accuracy: 0.5008\n",
      "Epoch 8/50\n",
      "1446/1446 [==============================] - 26s 18ms/step - loss: 0.6931 - binary_accuracy: 0.5022\n",
      "Epoch 9/50\n",
      "1446/1446 [==============================] - 26s 18ms/step - loss: 0.6931 - binary_accuracy: 0.5027\n",
      "Epoch 10/50\n",
      "1446/1446 [==============================] - 26s 18ms/step - loss: 0.6931 - binary_accuracy: 0.5029\n",
      "Epoch 11/50\n",
      "1446/1446 [==============================] - 26s 18ms/step - loss: 0.6931 - binary_accuracy: 0.5047\n",
      "Epoch 12/50\n",
      "1446/1446 [==============================] - 26s 18ms/step - loss: 0.6930 - binary_accuracy: 0.5052\n",
      "Epoch 13/50\n",
      "1446/1446 [==============================] - 26s 18ms/step - loss: 0.6930 - binary_accuracy: 0.5065\n",
      "Epoch 14/50\n",
      "1446/1446 [==============================] - 26s 18ms/step - loss: 0.6929 - binary_accuracy: 0.5081\n",
      "Epoch 15/50\n",
      "1446/1446 [==============================] - 26s 18ms/step - loss: 0.6928 - binary_accuracy: 0.5091\n",
      "Epoch 16/50\n",
      "1446/1446 [==============================] - 26s 18ms/step - loss: 0.6926 - binary_accuracy: 0.5118\n",
      "Epoch 17/50\n",
      "1446/1446 [==============================] - 26s 18ms/step - loss: 0.6923 - binary_accuracy: 0.5142\n",
      "Epoch 18/50\n",
      "1446/1446 [==============================] - 26s 18ms/step - loss: 0.6920 - binary_accuracy: 0.5166\n",
      "Epoch 19/50\n",
      "1446/1446 [==============================] - 26s 18ms/step - loss: 0.6915 - binary_accuracy: 0.5193\n",
      "Epoch 20/50\n",
      "1446/1446 [==============================] - 26s 18ms/step - loss: 0.6909 - binary_accuracy: 0.5214\n",
      "Epoch 21/50\n",
      "1446/1446 [==============================] - 26s 18ms/step - loss: 0.6902 - binary_accuracy: 0.5238\n",
      "Epoch 22/50\n",
      "1446/1446 [==============================] - 27s 18ms/step - loss: 0.6894 - binary_accuracy: 0.5266\n",
      "Epoch 23/50\n",
      "1446/1446 [==============================] - 27s 18ms/step - loss: 0.6886 - binary_accuracy: 0.5284\n",
      "Epoch 24/50\n",
      "1446/1446 [==============================] - 27s 19ms/step - loss: 0.6877 - binary_accuracy: 0.5305\n",
      "Epoch 25/50\n",
      "1446/1446 [==============================] - 26s 18ms/step - loss: 0.6865 - binary_accuracy: 0.5327\n",
      "Epoch 26/50\n",
      "1446/1446 [==============================] - 26s 18ms/step - loss: 0.6852 - binary_accuracy: 0.5350\n",
      "Epoch 27/50\n",
      "1446/1446 [==============================] - 26s 18ms/step - loss: 0.6837 - binary_accuracy: 0.5377\n",
      "Epoch 28/50\n",
      "1446/1446 [==============================] - 26s 18ms/step - loss: 0.6820 - binary_accuracy: 0.5397\n",
      "Epoch 29/50\n",
      "1446/1446 [==============================] - 26s 18ms/step - loss: 0.6801 - binary_accuracy: 0.5424\n",
      "Epoch 30/50\n",
      "1446/1446 [==============================] - 26s 18ms/step - loss: 0.6781 - binary_accuracy: 0.5448\n",
      "Epoch 31/50\n",
      "1446/1446 [==============================] - 26s 18ms/step - loss: 0.6760 - binary_accuracy: 0.5474\n",
      "Epoch 32/50\n",
      "1446/1446 [==============================] - 26s 18ms/step - loss: 0.6737 - binary_accuracy: 0.5498\n",
      "Epoch 33/50\n",
      "1446/1446 [==============================] - 26s 18ms/step - loss: 0.6713 - binary_accuracy: 0.5525\n",
      "Epoch 34/50\n",
      "1446/1446 [==============================] - 26s 18ms/step - loss: 0.6686 - binary_accuracy: 0.5552\n",
      "Epoch 35/50\n",
      "1446/1446 [==============================] - 26s 18ms/step - loss: 0.6659 - binary_accuracy: 0.5584\n",
      "Epoch 36/50\n",
      "1446/1446 [==============================] - 27s 18ms/step - loss: 0.6631 - binary_accuracy: 0.5614\n",
      "Epoch 37/50\n",
      "1446/1446 [==============================] - 26s 18ms/step - loss: 0.6603 - binary_accuracy: 0.5641\n",
      "Epoch 38/50\n",
      "1446/1446 [==============================] - 27s 18ms/step - loss: 0.6572 - binary_accuracy: 0.5675\n",
      "Epoch 39/50\n",
      "1446/1446 [==============================] - 27s 18ms/step - loss: 0.6541 - binary_accuracy: 0.5709\n",
      "Epoch 40/50\n",
      "1446/1446 [==============================] - 28s 19ms/step - loss: 0.6508 - binary_accuracy: 0.5741\n",
      "Epoch 41/50\n",
      "1446/1446 [==============================] - 27s 18ms/step - loss: 0.6472 - binary_accuracy: 0.5776\n",
      "Epoch 42/50\n",
      "1446/1446 [==============================] - 27s 19ms/step - loss: 0.6439 - binary_accuracy: 0.5812\n",
      "Epoch 43/50\n",
      "1446/1446 [==============================] - 27s 18ms/step - loss: 0.6403 - binary_accuracy: 0.5842\n",
      "Epoch 44/50\n",
      "1446/1446 [==============================] - 27s 18ms/step - loss: 0.6370 - binary_accuracy: 0.5867\n",
      "Epoch 45/50\n",
      "1446/1446 [==============================] - 27s 18ms/step - loss: 0.6336 - binary_accuracy: 0.5903\n",
      "Epoch 46/50\n",
      "1446/1446 [==============================] - 27s 18ms/step - loss: 0.6302 - binary_accuracy: 0.5937\n",
      "Epoch 47/50\n",
      "1446/1446 [==============================] - 27s 19ms/step - loss: 0.6266 - binary_accuracy: 0.5968\n",
      "Epoch 48/50\n",
      "1446/1446 [==============================] - 28s 19ms/step - loss: 0.6234 - binary_accuracy: 0.5996\n",
      "Epoch 49/50\n",
      "1446/1446 [==============================] - 28s 19ms/step - loss: 0.6198 - binary_accuracy: 0.6029\n",
      "Epoch 50/50\n",
      "1446/1446 [==============================] - 28s 19ms/step - loss: 0.6169 - binary_accuracy: 0.6051\n"
     ]
    }
   ],
   "source": [
    "history = train_model(neural_network, train_samples, train_labels_1st_bit, \n",
    "                      batch_size=batch_size, \n",
    "                      epochs=epochs)"
   ]
  },
  {
   "cell_type": "code",
   "execution_count": 15,
   "metadata": {},
   "outputs": [
    {
     "name": "stdout",
     "output_type": "stream",
     "text": [
      "Epoch 1/50\n",
      "1446/1446 [==============================] - 26s 18ms/step - loss: 0.6131 - binary_accuracy: 0.6086\n",
      "Epoch 2/50\n",
      "1446/1446 [==============================] - 26s 18ms/step - loss: 0.6105 - binary_accuracy: 0.6110\n",
      "Epoch 3/50\n",
      "1446/1446 [==============================] - 25s 17ms/step - loss: 0.6075 - binary_accuracy: 0.6131\n",
      "Epoch 4/50\n",
      "1446/1446 [==============================] - 25s 17ms/step - loss: 0.6044 - binary_accuracy: 0.6159\n",
      "Epoch 5/50\n",
      "1446/1446 [==============================] - 25s 18ms/step - loss: 0.6013 - binary_accuracy: 0.6180\n",
      "Epoch 6/50\n",
      "1446/1446 [==============================] - 26s 18ms/step - loss: 0.5985 - binary_accuracy: 0.6208\n",
      "Epoch 7/50\n",
      "1446/1446 [==============================] - 26s 18ms/step - loss: 0.5956 - binary_accuracy: 0.6227\n",
      "Epoch 8/50\n",
      "1446/1446 [==============================] - 26s 18ms/step - loss: 0.5930 - binary_accuracy: 0.6249\n",
      "Epoch 9/50\n",
      "1446/1446 [==============================] - 27s 18ms/step - loss: 0.5904 - binary_accuracy: 0.6266\n",
      "Epoch 10/50\n",
      "1446/1446 [==============================] - 26s 18ms/step - loss: 0.5880 - binary_accuracy: 0.6287\n",
      "Epoch 11/50\n",
      "1446/1446 [==============================] - 26s 18ms/step - loss: 0.5857 - binary_accuracy: 0.6307\n",
      "Epoch 12/50\n",
      "1446/1446 [==============================] - 26s 18ms/step - loss: 0.5830 - binary_accuracy: 0.6323\n",
      "Epoch 13/50\n",
      "1446/1446 [==============================] - 27s 19ms/step - loss: 0.5809 - binary_accuracy: 0.6338\n",
      "Epoch 14/50\n",
      "1446/1446 [==============================] - 26s 18ms/step - loss: 0.5785 - binary_accuracy: 0.6358\n",
      "Epoch 15/50\n",
      "1446/1446 [==============================] - 27s 18ms/step - loss: 0.5762 - binary_accuracy: 0.6376\n",
      "Epoch 16/50\n",
      "1446/1446 [==============================] - 26s 18ms/step - loss: 0.5737 - binary_accuracy: 0.6393\n",
      "Epoch 17/50\n",
      "1446/1446 [==============================] - 27s 18ms/step - loss: 0.5725 - binary_accuracy: 0.6406\n",
      "Epoch 18/50\n",
      "1446/1446 [==============================] - 26s 18ms/step - loss: 0.5694 - binary_accuracy: 0.6419\n",
      "Epoch 19/50\n",
      "1446/1446 [==============================] - 26s 18ms/step - loss: 0.5679 - binary_accuracy: 0.6434\n",
      "Epoch 20/50\n",
      "1446/1446 [==============================] - 26s 18ms/step - loss: 0.5658 - binary_accuracy: 0.6447\n",
      "Epoch 21/50\n",
      "1446/1446 [==============================] - 26s 18ms/step - loss: 0.5641 - binary_accuracy: 0.6459\n",
      "Epoch 22/50\n",
      "1446/1446 [==============================] - 26s 18ms/step - loss: 0.5625 - binary_accuracy: 0.6473\n",
      "Epoch 23/50\n",
      "1446/1446 [==============================] - 26s 18ms/step - loss: 0.5601 - binary_accuracy: 0.6489\n",
      "Epoch 24/50\n",
      "1446/1446 [==============================] - 26s 18ms/step - loss: 0.5586 - binary_accuracy: 0.6501\n",
      "Epoch 25/50\n",
      "1446/1446 [==============================] - 26s 18ms/step - loss: 0.5573 - binary_accuracy: 0.6515\n",
      "Epoch 26/50\n",
      "1446/1446 [==============================] - 27s 18ms/step - loss: 0.5550 - binary_accuracy: 0.6527\n",
      "Epoch 27/50\n",
      "1446/1446 [==============================] - 26s 18ms/step - loss: 0.5536 - binary_accuracy: 0.6536\n",
      "Epoch 28/50\n",
      "1446/1446 [==============================] - 26s 18ms/step - loss: 0.5523 - binary_accuracy: 0.6547\n",
      "Epoch 29/50\n",
      "1446/1446 [==============================] - 27s 19ms/step - loss: 0.5507 - binary_accuracy: 0.6559\n",
      "Epoch 30/50\n",
      "1446/1446 [==============================] - 27s 18ms/step - loss: 0.5496 - binary_accuracy: 0.6564\n",
      "Epoch 31/50\n",
      "1446/1446 [==============================] - 27s 19ms/step - loss: 0.5478 - binary_accuracy: 0.6577\n",
      "Epoch 32/50\n",
      "1446/1446 [==============================] - 26s 18ms/step - loss: 0.5466 - binary_accuracy: 0.6587\n",
      "Epoch 33/50\n",
      "1446/1446 [==============================] - 26s 18ms/step - loss: 0.5453 - binary_accuracy: 0.6600\n",
      "Epoch 34/50\n",
      "1446/1446 [==============================] - 26s 18ms/step - loss: 0.5435 - binary_accuracy: 0.6606\n",
      "Epoch 35/50\n",
      "1446/1446 [==============================] - 26s 18ms/step - loss: 0.5425 - binary_accuracy: 0.6614\n",
      "Epoch 36/50\n",
      "1446/1446 [==============================] - 26s 18ms/step - loss: 0.5413 - binary_accuracy: 0.6622\n",
      "Epoch 37/50\n",
      "1446/1446 [==============================] - 26s 18ms/step - loss: 0.5393 - binary_accuracy: 0.6635\n",
      "Epoch 38/50\n",
      "1446/1446 [==============================] - 26s 18ms/step - loss: 0.5388 - binary_accuracy: 0.6641\n",
      "Epoch 39/50\n",
      "1446/1446 [==============================] - 26s 18ms/step - loss: 0.5375 - binary_accuracy: 0.6652\n",
      "Epoch 40/50\n",
      "1446/1446 [==============================] - 26s 18ms/step - loss: 0.5358 - binary_accuracy: 0.6662\n",
      "Epoch 41/50\n",
      "1446/1446 [==============================] - 26s 18ms/step - loss: 0.5359 - binary_accuracy: 0.6662\n",
      "Epoch 42/50\n",
      "1446/1446 [==============================] - 26s 18ms/step - loss: 0.5335 - binary_accuracy: 0.6673\n",
      "Epoch 43/50\n",
      "1446/1446 [==============================] - 26s 18ms/step - loss: 0.5329 - binary_accuracy: 0.6677\n",
      "Epoch 44/50\n",
      "1446/1446 [==============================] - 26s 18ms/step - loss: 0.5318 - binary_accuracy: 0.6686\n",
      "Epoch 45/50\n",
      "1446/1446 [==============================] - 26s 18ms/step - loss: 0.5307 - binary_accuracy: 0.6695\n",
      "Epoch 46/50\n",
      "1446/1446 [==============================] - 26s 18ms/step - loss: 0.5298 - binary_accuracy: 0.6701\n",
      "Epoch 47/50\n",
      "1446/1446 [==============================] - 26s 18ms/step - loss: 0.5292 - binary_accuracy: 0.6708\n",
      "Epoch 48/50\n",
      "1446/1446 [==============================] - 26s 18ms/step - loss: 0.5270 - binary_accuracy: 0.6716\n",
      "Epoch 49/50\n",
      "1446/1446 [==============================] - 28s 19ms/step - loss: 0.5266 - binary_accuracy: 0.6720\n",
      "Epoch 50/50\n",
      "1446/1446 [==============================] - 27s 18ms/step - loss: 0.5250 - binary_accuracy: 0.6732\n"
     ]
    }
   ],
   "source": [
    "history = train_model(neural_network, train_samples, train_labels_1st_bit, \n",
    "                      batch_size=batch_size, \n",
    "                      epochs=epochs)"
   ]
  },
  {
   "cell_type": "code",
   "execution_count": 16,
   "metadata": {},
   "outputs": [
    {
     "name": "stdout",
     "output_type": "stream",
     "text": [
      "Epoch 1/50\n",
      "1446/1446 [==============================] - 26s 18ms/step - loss: 0.5244 - binary_accuracy: 0.6736\n",
      "Epoch 2/50\n",
      "1446/1446 [==============================] - 25s 17ms/step - loss: 0.5232 - binary_accuracy: 0.6744\n",
      "Epoch 3/50\n",
      "1446/1446 [==============================] - 25s 18ms/step - loss: 0.5221 - binary_accuracy: 0.6750\n",
      "Epoch 4/50\n",
      "1446/1446 [==============================] - 26s 18ms/step - loss: 0.5220 - binary_accuracy: 0.6751\n",
      "Epoch 5/50\n",
      "1446/1446 [==============================] - 25s 18ms/step - loss: 0.5202 - binary_accuracy: 0.6764\n",
      "Epoch 6/50\n",
      "1446/1446 [==============================] - 26s 18ms/step - loss: 0.5195 - binary_accuracy: 0.6768\n",
      "Epoch 7/50\n",
      "1446/1446 [==============================] - 26s 18ms/step - loss: 0.5189 - binary_accuracy: 0.6771\n",
      "Epoch 8/50\n",
      "1446/1446 [==============================] - 26s 18ms/step - loss: 0.5177 - binary_accuracy: 0.6779\n",
      "Epoch 9/50\n",
      "1446/1446 [==============================] - 26s 18ms/step - loss: 0.5181 - binary_accuracy: 0.6780\n",
      "Epoch 10/50\n",
      "1446/1446 [==============================] - 26s 18ms/step - loss: 0.5167 - binary_accuracy: 0.6791\n",
      "Epoch 11/50\n",
      "1446/1446 [==============================] - 26s 18ms/step - loss: 0.5145 - binary_accuracy: 0.6799\n",
      "Epoch 12/50\n",
      "1446/1446 [==============================] - 26s 18ms/step - loss: 0.5162 - binary_accuracy: 0.6788\n",
      "Epoch 13/50\n",
      "1446/1446 [==============================] - 26s 18ms/step - loss: 0.5134 - binary_accuracy: 0.6810\n",
      "Epoch 14/50\n",
      "1446/1446 [==============================] - 26s 18ms/step - loss: 0.5133 - binary_accuracy: 0.6809\n",
      "Epoch 15/50\n",
      "1446/1446 [==============================] - 26s 18ms/step - loss: 0.5125 - binary_accuracy: 0.6811\n",
      "Epoch 16/50\n",
      "1446/1446 [==============================] - 26s 18ms/step - loss: 0.5114 - binary_accuracy: 0.6820\n",
      "Epoch 17/50\n",
      "1446/1446 [==============================] - 26s 18ms/step - loss: 0.5118 - binary_accuracy: 0.6821\n",
      "Epoch 18/50\n",
      "1446/1446 [==============================] - 26s 18ms/step - loss: 0.5103 - binary_accuracy: 0.6826\n",
      "Epoch 19/50\n",
      "1446/1446 [==============================] - 26s 18ms/step - loss: 0.5088 - binary_accuracy: 0.6837\n",
      "Epoch 20/50\n",
      "1446/1446 [==============================] - 27s 18ms/step - loss: 0.5088 - binary_accuracy: 0.6839\n",
      "Epoch 21/50\n",
      "1446/1446 [==============================] - 26s 18ms/step - loss: 0.5078 - binary_accuracy: 0.6843\n",
      "Epoch 22/50\n",
      "1446/1446 [==============================] - 27s 18ms/step - loss: 0.5063 - binary_accuracy: 0.6850\n",
      "Epoch 23/50\n",
      "1446/1446 [==============================] - 27s 18ms/step - loss: 0.5058 - binary_accuracy: 0.6852\n",
      "Epoch 24/50\n",
      "1446/1446 [==============================] - 26s 18ms/step - loss: 0.5059 - binary_accuracy: 0.6854\n",
      "Epoch 25/50\n",
      "1446/1446 [==============================] - 26s 18ms/step - loss: 0.5057 - binary_accuracy: 0.6853\n",
      "Epoch 26/50\n",
      "1446/1446 [==============================] - 26s 18ms/step - loss: 0.5044 - binary_accuracy: 0.6867\n",
      "Epoch 27/50\n",
      "1446/1446 [==============================] - 26s 18ms/step - loss: 0.5033 - binary_accuracy: 0.6871\n",
      "Epoch 28/50\n",
      "1446/1446 [==============================] - 26s 18ms/step - loss: 0.5030 - binary_accuracy: 0.6872\n",
      "Epoch 29/50\n",
      "1446/1446 [==============================] - 27s 18ms/step - loss: 0.5030 - binary_accuracy: 0.6876\n",
      "Epoch 30/50\n",
      "1446/1446 [==============================] - 27s 18ms/step - loss: 0.5013 - binary_accuracy: 0.6883\n",
      "Epoch 31/50\n",
      "1446/1446 [==============================] - 26s 18ms/step - loss: 0.5011 - binary_accuracy: 0.6885\n",
      "Epoch 32/50\n",
      "1446/1446 [==============================] - 26s 18ms/step - loss: 0.5000 - binary_accuracy: 0.6892\n",
      "Epoch 33/50\n",
      "1446/1446 [==============================] - 26s 18ms/step - loss: 0.4993 - binary_accuracy: 0.6895\n",
      "Epoch 34/50\n",
      "1446/1446 [==============================] - 26s 18ms/step - loss: 0.4993 - binary_accuracy: 0.6897\n",
      "Epoch 35/50\n",
      "1446/1446 [==============================] - 27s 18ms/step - loss: 0.4995 - binary_accuracy: 0.6897\n",
      "Epoch 36/50\n",
      "1446/1446 [==============================] - 26s 18ms/step - loss: 0.4984 - binary_accuracy: 0.6903\n",
      "Epoch 37/50\n",
      "1446/1446 [==============================] - 27s 19ms/step - loss: 0.4981 - binary_accuracy: 0.6906\n",
      "Epoch 38/50\n",
      "1446/1446 [==============================] - 28s 19ms/step - loss: 0.4973 - binary_accuracy: 0.6912\n",
      "Epoch 39/50\n",
      "1446/1446 [==============================] - 27s 18ms/step - loss: 0.4959 - binary_accuracy: 0.6918\n",
      "Epoch 40/50\n",
      "1446/1446 [==============================] - 27s 19ms/step - loss: 0.4957 - binary_accuracy: 0.6921\n",
      "Epoch 41/50\n",
      "1446/1446 [==============================] - 26s 18ms/step - loss: 0.4955 - binary_accuracy: 0.6919\n",
      "Epoch 42/50\n",
      "1446/1446 [==============================] - 26s 18ms/step - loss: 0.4945 - binary_accuracy: 0.6924\n",
      "Epoch 43/50\n",
      "1446/1446 [==============================] - 26s 18ms/step - loss: 0.4934 - binary_accuracy: 0.6931\n",
      "Epoch 44/50\n",
      "1446/1446 [==============================] - 26s 18ms/step - loss: 0.4926 - binary_accuracy: 0.6934\n",
      "Epoch 45/50\n",
      "1446/1446 [==============================] - 26s 18ms/step - loss: 0.4934 - binary_accuracy: 0.6934\n",
      "Epoch 46/50\n",
      "1446/1446 [==============================] - 27s 18ms/step - loss: 0.4930 - binary_accuracy: 0.6937\n",
      "Epoch 47/50\n",
      "1446/1446 [==============================] - 28s 20ms/step - loss: 0.4926 - binary_accuracy: 0.6939\n",
      "Epoch 48/50\n",
      "1446/1446 [==============================] - 28s 19ms/step - loss: 0.4906 - binary_accuracy: 0.6949\n",
      "Epoch 49/50\n",
      "1446/1446 [==============================] - 27s 19ms/step - loss: 0.4907 - binary_accuracy: 0.6949\n",
      "Epoch 50/50\n",
      "1446/1446 [==============================] - 27s 19ms/step - loss: 0.4900 - binary_accuracy: 0.6956\n"
     ]
    }
   ],
   "source": [
    "history = train_model(neural_network, train_samples, train_labels_1st_bit, \n",
    "                      batch_size=batch_size, \n",
    "                      epochs=epochs)"
   ]
  },
  {
   "attachments": {},
   "cell_type": "markdown",
   "metadata": {},
   "source": [
    "### Testing\n",
    "In this code block, we train the model. It outputs, for each epoch, the loss and metrics.\n",
    "\n",
    "This block mostly stays the same."
   ]
  },
  {
   "cell_type": "code",
   "execution_count": 17,
   "metadata": {},
   "outputs": [
    {
     "name": "stdout",
     "output_type": "stream",
     "text": [
      "620/620 [==============================] - 4s 7ms/step\n"
     ]
    }
   ],
   "source": [
    "results = test_model_binary(neural_network, test_samples, test_labels_1st_bit, batch_size)"
   ]
  },
  {
   "cell_type": "code",
   "execution_count": 20,
   "metadata": {},
   "outputs": [
    {
     "name": "stdout",
     "output_type": "stream",
     "text": [
      "Correct predictions: 308967\n",
      "Accuracy: 0.4986652420640813\n"
     ]
    }
   ],
   "source": [
    "print(\"Correct predictions: \" + str(results[\"correct_predictions\"]))\n",
    "print(\"Accuracy: \" + str(results[\"accuracy\"]))"
   ]
  },
  {
   "cell_type": "code",
   "execution_count": 21,
   "metadata": {},
   "outputs": [],
   "source": [
    "save_model(neural_network, \"aes_1st_bit\")"
   ]
  },
  {
   "cell_type": "code",
   "execution_count": null,
   "metadata": {},
   "outputs": [],
   "source": []
  }
 ],
 "metadata": {
  "kernelspec": {
   "display_name": "Python 3",
   "language": "python",
   "name": "python3"
  },
  "language_info": {
   "codemirror_mode": {
    "name": "ipython",
    "version": 3
   },
   "file_extension": ".py",
   "mimetype": "text/x-python",
   "name": "python",
   "nbconvert_exporter": "python",
   "pygments_lexer": "ipython3",
   "version": "3.11.2"
  },
  "orig_nbformat": 4
 },
 "nbformat": 4,
 "nbformat_minor": 2
}
